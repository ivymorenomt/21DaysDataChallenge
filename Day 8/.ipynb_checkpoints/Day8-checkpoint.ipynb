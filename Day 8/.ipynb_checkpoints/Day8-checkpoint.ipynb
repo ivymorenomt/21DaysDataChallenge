{
 "cells": [
  {
   "cell_type": "code",
   "execution_count": 2,
   "metadata": {},
   "outputs": [
    {
     "data": {
      "text/html": [
       "<div>\n",
       "<style scoped>\n",
       "    .dataframe tbody tr th:only-of-type {\n",
       "        vertical-align: middle;\n",
       "    }\n",
       "\n",
       "    .dataframe tbody tr th {\n",
       "        vertical-align: top;\n",
       "    }\n",
       "\n",
       "    .dataframe thead th {\n",
       "        text-align: right;\n",
       "    }\n",
       "</style>\n",
       "<table border=\"1\" class=\"dataframe\">\n",
       "  <thead>\n",
       "    <tr style=\"text-align: right;\">\n",
       "      <th></th>\n",
       "      <th>Month</th>\n",
       "      <th>Monthly milk production (pounds per cow)</th>\n",
       "    </tr>\n",
       "  </thead>\n",
       "  <tbody>\n",
       "    <tr>\n",
       "      <td>0</td>\n",
       "      <td>1962-01</td>\n",
       "      <td>589</td>\n",
       "    </tr>\n",
       "    <tr>\n",
       "      <td>1</td>\n",
       "      <td>1962-02</td>\n",
       "      <td>561</td>\n",
       "    </tr>\n",
       "    <tr>\n",
       "      <td>2</td>\n",
       "      <td>1962-03</td>\n",
       "      <td>640</td>\n",
       "    </tr>\n",
       "    <tr>\n",
       "      <td>3</td>\n",
       "      <td>1962-04</td>\n",
       "      <td>656</td>\n",
       "    </tr>\n",
       "    <tr>\n",
       "      <td>4</td>\n",
       "      <td>1962-05</td>\n",
       "      <td>727</td>\n",
       "    </tr>\n",
       "  </tbody>\n",
       "</table>\n",
       "</div>"
      ],
      "text/plain": [
       "     Month  Monthly milk production (pounds per cow)\n",
       "0  1962-01                                       589\n",
       "1  1962-02                                       561\n",
       "2  1962-03                                       640\n",
       "3  1962-04                                       656\n",
       "4  1962-05                                       727"
      ]
     },
     "execution_count": 2,
     "metadata": {},
     "output_type": "execute_result"
    }
   ],
   "source": [
    "import pandas as pd\n",
    "\n",
    "df = pd.read_csv('https://raw.githubusercontent.com/plotly/datasets/master/monthly-milk-production-pounds.csv')\n",
    "df.head()"
   ]
  },
  {
   "cell_type": "code",
   "execution_count": 4,
   "metadata": {},
   "outputs": [
    {
     "name": "stdout",
     "output_type": "stream",
     "text": [
      "The maximum average milk production is 969 during the year-month of 148.\n"
     ]
    }
   ],
   "source": [
    "#Solutions Q1\n",
    "max_milk = df['Monthly milk production (pounds per cow)'].max()\n",
    "max_milk_index = df['Monthly milk production (pounds per cow)'].idxmax()\n",
    "\n",
    "print(f'The maximum average milk production is {max_milk} during the year-month of {max_milk_index}.')"
   ]
  },
  {
   "cell_type": "code",
   "execution_count": 8,
   "metadata": {},
   "outputs": [
    {
     "data": {
      "text/plain": [
       "Month                                       1974-05\n",
       "Monthly milk production (pounds per cow)        969\n",
       "Name: 148, dtype: object"
      ]
     },
     "execution_count": 8,
     "metadata": {},
     "output_type": "execute_result"
    }
   ],
   "source": [
    "df.iloc[148]\n"
   ]
  },
  {
   "cell_type": "code",
   "execution_count": 6,
   "metadata": {},
   "outputs": [
    {
     "name": "stdout",
     "output_type": "stream",
     "text": [
      "The minimum average milk production is 553 during the year-month of 10.\n"
     ]
    }
   ],
   "source": [
    "#Solutions Q2\n",
    "min_milk = df['Monthly milk production (pounds per cow)'].min()\n",
    "min_milk_index = df['Monthly milk production (pounds per cow)'].idxmin()\n",
    "\n",
    "print(f'The minimum average milk production is {min_milk} during the year-month of {min_milk_index}.')\n"
   ]
  },
  {
   "cell_type": "code",
   "execution_count": 7,
   "metadata": {},
   "outputs": [
    {
     "data": {
      "text/plain": [
       "Month                                       1962-11\n",
       "Monthly milk production (pounds per cow)        553\n",
       "Name: 10, dtype: object"
      ]
     },
     "execution_count": 7,
     "metadata": {},
     "output_type": "execute_result"
    }
   ],
   "source": [
    "df.iloc[10]\n"
   ]
  },
  {
   "cell_type": "markdown",
   "metadata": {},
   "source": [
    "I am unable to download the latest milk production data online, so I went with whatever is available to be able to run the program. \n",
    "\n",
    "The answer to Q1 is:\n",
    "\n",
    "Month                                      19-Jun\n",
    "Monthly milk production: pounds per cow       969\n",
    "Name: 148, dtype: object\n",
    "\n",
    "\n",
    "The answer to Q2 is:\n",
    "\n",
    "Month                                      07-Dec\n",
    "Monthly milk production: pounds per cow       553\n",
    "Name: 10, dtype: object\n",
    "\n",
    "Which makes the answer Jun 2019(max) and Dec 2007(min)"
   ]
  },
  {
   "cell_type": "code",
   "execution_count": null,
   "metadata": {},
   "outputs": [],
   "source": []
  }
 ],
 "metadata": {
  "kernelspec": {
   "display_name": "Python 3",
   "language": "python",
   "name": "python3"
  },
  "language_info": {
   "codemirror_mode": {
    "name": "ipython",
    "version": 3
   },
   "file_extension": ".py",
   "mimetype": "text/x-python",
   "name": "python",
   "nbconvert_exporter": "python",
   "pygments_lexer": "ipython3",
   "version": "3.7.4"
  }
 },
 "nbformat": 4,
 "nbformat_minor": 2
}
